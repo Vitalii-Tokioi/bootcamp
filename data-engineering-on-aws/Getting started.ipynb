{
 "cells": [
  {
   "cell_type": "code",
   "execution_count": 2,
   "id": "e117e5a5-2cfe-467e-8e50-e73efd0d489f",
   "metadata": {},
   "outputs": [
    {
     "name": "stdout",
     "output_type": "stream",
     "text": [
      "Hello World\n"
     ]
    }
   ],
   "source": [
    "print('Hello World')"
   ]
  },
  {
   "cell_type": "code",
   "execution_count": 3,
   "id": "227e1e56-f741-4191-82d1-e9f26017023a",
   "metadata": {},
   "outputs": [],
   "source": [
    "import boto3\n"
   ]
  },
  {
   "cell_type": "code",
   "execution_count": 18,
   "id": "068f55d1-92b1-4831-add5-bdec945b463d",
   "metadata": {},
   "outputs": [
    {
     "data": {
      "text/plain": [
       "botocore.client.S3"
      ]
     },
     "execution_count": 18,
     "metadata": {},
     "output_type": "execute_result"
    }
   ],
   "source": [
    "s3_client = boto3.client('s3')\n",
    "type(s3_client)"
   ]
  },
  {
   "cell_type": "code",
   "execution_count": 19,
   "id": "751fb104-4043-4f8b-99fa-0569f3dcc08d",
   "metadata": {},
   "outputs": [],
   "source": [
    "buckets = s3_client.list_buckets()['Buckets']"
   ]
  },
  {
   "cell_type": "code",
   "execution_count": 24,
   "id": "6eb00dc6-b504-47b2-880d-7b3d1fa7059e",
   "metadata": {},
   "outputs": [
    {
     "data": {
      "text/plain": [
       "[{'Name': 'rusichv-itv-github',\n",
       "  'CreationDate': datetime.datetime(2024, 1, 28, 22, 51, 42, tzinfo=tzutc())},\n",
       " {'Name': 'rusichv-private',\n",
       "  'CreationDate': datetime.datetime(2024, 1, 23, 9, 13, 31, tzinfo=tzutc())}]"
      ]
     },
     "execution_count": 24,
     "metadata": {},
     "output_type": "execute_result"
    }
   ],
   "source": [
    "buckets"
   ]
  },
  {
   "cell_type": "code",
   "execution_count": 32,
   "id": "67e09907-82e8-4d31-9243-f5b975974b92",
   "metadata": {},
   "outputs": [],
   "source": [
    "bucket = buckets[1]"
   ]
  },
  {
   "cell_type": "code",
   "execution_count": 33,
   "id": "ea4e881b-1408-4b7f-b295-097048c4b080",
   "metadata": {},
   "outputs": [
    {
     "data": {
      "text/plain": [
       "{'Name': 'rusichv-private',\n",
       " 'CreationDate': datetime.datetime(2024, 1, 23, 9, 13, 31, tzinfo=tzutc())}"
      ]
     },
     "execution_count": 33,
     "metadata": {},
     "output_type": "execute_result"
    }
   ],
   "source": [
    "bucket\n"
   ]
  },
  {
   "cell_type": "code",
   "execution_count": 34,
   "id": "37fd2760-663e-473e-8388-7765613d4ca1",
   "metadata": {},
   "outputs": [
    {
     "data": {
      "text/plain": [
       "'rusichv-private'"
      ]
     },
     "execution_count": 34,
     "metadata": {},
     "output_type": "execute_result"
    }
   ],
   "source": [
    "bucket['Name']"
   ]
  },
  {
   "cell_type": "code",
   "execution_count": 37,
   "id": "9c209f0e-bd97-48c0-8693-3d65314203ef",
   "metadata": {},
   "outputs": [],
   "source": [
    "bucket_names = [bucket['Name'] for bucket in buckets]"
   ]
  },
  {
   "cell_type": "code",
   "execution_count": 38,
   "id": "93bc54ce-56d6-4ed1-9bba-1f5e5af3e0f4",
   "metadata": {},
   "outputs": [
    {
     "data": {
      "text/plain": [
       "['rusichv-itv-github', 'rusichv-private']"
      ]
     },
     "execution_count": 38,
     "metadata": {},
     "output_type": "execute_result"
    }
   ],
   "source": [
    "bucket_names\n"
   ]
  },
  {
   "cell_type": "code",
   "execution_count": null,
   "id": "522ce917-4cd7-4829-a074-2d0f3468da6c",
   "metadata": {},
   "outputs": [],
   "source": []
  }
 ],
 "metadata": {
  "kernelspec": {
   "display_name": "Python 3 (ipykernel)",
   "language": "python",
   "name": "python3"
  },
  "language_info": {
   "codemirror_mode": {
    "name": "ipython",
    "version": 3
   },
   "file_extension": ".py",
   "mimetype": "text/x-python",
   "name": "python",
   "nbconvert_exporter": "python",
   "pygments_lexer": "ipython3",
   "version": "3.11.7"
  }
 },
 "nbformat": 4,
 "nbformat_minor": 5
}
